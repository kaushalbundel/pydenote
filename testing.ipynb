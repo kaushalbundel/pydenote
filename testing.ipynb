{
 "cells": [
  {
   "cell_type": "code",
   "execution_count": null,
   "metadata": {},
   "outputs": [],
   "source": [
    "#TODO: In both set and get I need to remove all the capital letters\n",
    "#TODO: I can use external lib to work with paths\n",
    "from dataclasses import dataclass\n",
    "from typing import List, Union\n",
    "@dataclass\n",
    "class TagManager:\n",
    "    file_location: str\n",
    "\n",
    "    def set_tags(self, tags: str) -> Union[None, List[str]]:\n",
    "        #TODO: check if we need to validate if the file location exists or not\n",
    "        #TODO: This function does not create tag file. Tag file should be created\n",
    "        #TODO: Duplicacy check should be ensured to enable duplicate tags are not added to the file\n",
    "        if self.file_location: \n",
    "            with open(self.file_location, \"a\") as tag_file:\n",
    "                tag_file.write(tags + \"\\n\")\n",
    "        else:\n",
    "            return []\n",
    "\n",
    "    def get_tags(self) -> Union[ List[str], None]:\n",
    "        list_tags: List[str] = []\n",
    "        if self.file_location:\n",
    "            with open(self.file_location, \"r\") as file:\n",
    "                for lines in file:\n",
    "                    list_tags.append(lines)\n",
    "                    return list_tags\n",
    "        else:\n",
    "            return []\n"
   ]
  },
  {
   "cell_type": "code",
   "execution_count": 21,
   "metadata": {},
   "outputs": [],
   "source": [
    "tags= TagManager(file_location=\"tags.txt\")"
   ]
  },
  {
   "cell_type": "code",
   "execution_count": 22,
   "metadata": {},
   "outputs": [],
   "source": [
    "tags.set_tags(\"first_tag\")"
   ]
  },
  {
   "cell_type": "code",
   "execution_count": 23,
   "metadata": {},
   "outputs": [
    {
     "data": {
      "text/plain": [
       "['first_tag\\n']"
      ]
     },
     "execution_count": 23,
     "metadata": {},
     "output_type": "execute_result"
    }
   ],
   "source": [
    "tags.get_tags()"
   ]
  },
  {
   "cell_type": "code",
   "execution_count": null,
   "metadata": {},
   "outputs": [],
   "source": []
  }
 ],
 "metadata": {
  "kernelspec": {
   "display_name": ".venv",
   "language": "python",
   "name": "python3"
  },
  "language_info": {
   "codemirror_mode": {
    "name": "ipython",
    "version": 3
   },
   "file_extension": ".py",
   "mimetype": "text/x-python",
   "name": "python",
   "nbconvert_exporter": "python",
   "pygments_lexer": "ipython3",
   "version": "3.12.3"
  }
 },
 "nbformat": 4,
 "nbformat_minor": 2
}
